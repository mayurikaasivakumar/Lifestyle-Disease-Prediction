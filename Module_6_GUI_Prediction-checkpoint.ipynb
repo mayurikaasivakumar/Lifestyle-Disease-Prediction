{
 "cells": [
  {
   "cell_type": "code",
   "execution_count": 24,
   "metadata": {
    "tags": []
   },
   "outputs": [],
   "source": [
    "from tkinter import *\n",
    "import tkinter as tk\n",
    "import numpy as np\n",
    "import pandas as pd\n",
    "import matplotlib.pyplot as plt\n",
    "import seaborn as s\n"
   ]
  },
  {
   "cell_type": "code",
   "execution_count": 25,
   "metadata": {
    "tags": []
   },
   "outputs": [
    {
     "data": {
      "text/html": [
       "<div>\n",
       "<style scoped>\n",
       "    .dataframe tbody tr th:only-of-type {\n",
       "        vertical-align: middle;\n",
       "    }\n",
       "\n",
       "    .dataframe tbody tr th {\n",
       "        vertical-align: top;\n",
       "    }\n",
       "\n",
       "    .dataframe thead th {\n",
       "        text-align: right;\n",
       "    }\n",
       "</style>\n",
       "<table border=\"1\" class=\"dataframe\">\n",
       "  <thead>\n",
       "    <tr style=\"text-align: right;\">\n",
       "      <th></th>\n",
       "      <th>Unnamed: 0</th>\n",
       "      <th>algorithm</th>\n",
       "      <th>accuracy</th>\n",
       "    </tr>\n",
       "  </thead>\n",
       "  <tbody>\n",
       "    <tr>\n",
       "      <th>0</th>\n",
       "      <td>0</td>\n",
       "      <td>Logistic Regression</td>\n",
       "      <td>93.128655</td>\n",
       "    </tr>\n",
       "    <tr>\n",
       "      <th>1</th>\n",
       "      <td>1</td>\n",
       "      <td>Decision Tree</td>\n",
       "      <td>93.128655</td>\n",
       "    </tr>\n",
       "    <tr>\n",
       "      <th>2</th>\n",
       "      <td>2</td>\n",
       "      <td>Random Forest</td>\n",
       "      <td>93.128655</td>\n",
       "    </tr>\n",
       "    <tr>\n",
       "      <th>3</th>\n",
       "      <td>3</td>\n",
       "      <td>SVC</td>\n",
       "      <td>93.128655</td>\n",
       "    </tr>\n",
       "    <tr>\n",
       "      <th>4</th>\n",
       "      <td>4</td>\n",
       "      <td>KNN</td>\n",
       "      <td>93.128655</td>\n",
       "    </tr>\n",
       "  </tbody>\n",
       "</table>\n",
       "</div>"
      ],
      "text/plain": [
       "   Unnamed: 0            algorithm   accuracy\n",
       "0           0  Logistic Regression  93.128655\n",
       "1           1        Decision Tree  93.128655\n",
       "2           2        Random Forest  93.128655\n",
       "3           3                  SVC  93.128655\n",
       "4           4                  KNN  93.128655"
      ]
     },
     "execution_count": 25,
     "metadata": {},
     "output_type": "execute_result"
    }
   ],
   "source": [
    "dfa = pd.read_csv(\"accuracy.csv\")\n",
    "dfa.head()"
   ]
  },
  {
   "cell_type": "code",
   "execution_count": 26,
   "metadata": {
    "tags": []
   },
   "outputs": [],
   "source": [
    "algo=dfa['algorithm'].values.tolist()"
   ]
  },
  {
   "cell_type": "code",
   "execution_count": 27,
   "metadata": {
    "tags": []
   },
   "outputs": [],
   "source": [
    "acc=dfa['accuracy'].values.tolist()"
   ]
  },
  {
   "cell_type": "code",
   "execution_count": 28,
   "metadata": {
    "tags": []
   },
   "outputs": [
    {
     "data": {
      "text/plain": [
       "Text(0.5, 1.0, 'Ratio')"
      ]
     },
     "execution_count": 28,
     "metadata": {},
     "output_type": "execute_result"
    },
    {
     "data": {
      "image/png": "[encoded data removed]",
      "text/plain": [
       "<Figure size 1000x500 with 1 Axes>"
      ]
     },
     "metadata": {},
     "output_type": "display_data"
    }
   ],
   "source": [
    "colors=['orange','black','blue','green','red','yellow']\n",
    "locations=[1,2,3,4,5,6]\n",
    "#heights=[no,yes]\n",
    "labels=['Male','Female']\n",
    "plt.figure(figsize=(10, 5)) \n",
    "plt.bar(locations,acc,color=colors,tick_label=algo,alpha=0.7, align='edge', width=0.4)\n",
    "plt.xlabel('Accuracy Score')\n",
    "plt.ylabel('Value')\n",
    "plt.title('Ratio')"
   ]
  },
  {
   "cell_type": "code",
   "execution_count": 29,
   "metadata": {
    "tags": []
   },
   "outputs": [],
   "source": [
    "df = pd.read_csv(\"pcalist2.csv\")"
   ]
  },
  {
   "cell_type": "code",
   "execution_count": 30,
   "metadata": {
    "tags": []
   },
   "outputs": [
    {
     "data": {
      "text/html": [
       "<div>\n",
       "<style scoped>\n",
       "    .dataframe tbody tr th:only-of-type {\n",
       "        vertical-align: middle;\n",
       "    }\n",
       "\n",
       "    .dataframe tbody tr th {\n",
       "        vertical-align: top;\n",
       "    }\n",
       "\n",
       "    .dataframe thead th {\n",
       "        text-align: right;\n",
       "    }\n",
       "</style>\n",
       "<table border=\"1\" class=\"dataframe\">\n",
       "  <thead>\n",
       "    <tr style=\"text-align: right;\">\n",
       "      <th></th>\n",
       "      <th>Unnamed: 0</th>\n",
       "      <th>loss_of_appetite</th>\n",
       "      <th>vomiting</th>\n",
       "      <th>yellowing_of_eyes</th>\n",
       "      <th>abdominal_pain</th>\n",
       "      <th>nausea</th>\n",
       "      <th>yellowish_skin</th>\n",
       "      <th>fatigue</th>\n",
       "      <th>dark_urine</th>\n",
       "      <th>high_fever</th>\n",
       "      <th>...</th>\n",
       "      <th>painful_walking</th>\n",
       "      <th>muscle_weakness</th>\n",
       "      <th>mood_swings</th>\n",
       "      <th>skin_rash</th>\n",
       "      <th>neck_pain</th>\n",
       "      <th>acidity</th>\n",
       "      <th>blood_in_sputum</th>\n",
       "      <th>burning_micturition</th>\n",
       "      <th>receiving_blood_transfusion</th>\n",
       "      <th>disease</th>\n",
       "    </tr>\n",
       "  </thead>\n",
       "  <tbody>\n",
       "    <tr>\n",
       "      <th>0</th>\n",
       "      <td>0</td>\n",
       "      <td>1</td>\n",
       "      <td>1</td>\n",
       "      <td>1</td>\n",
       "      <td>1</td>\n",
       "      <td>1</td>\n",
       "      <td>1</td>\n",
       "      <td>0</td>\n",
       "      <td>0</td>\n",
       "      <td>0</td>\n",
       "      <td>...</td>\n",
       "      <td>0</td>\n",
       "      <td>0</td>\n",
       "      <td>0</td>\n",
       "      <td>0</td>\n",
       "      <td>0</td>\n",
       "      <td>0</td>\n",
       "      <td>0</td>\n",
       "      <td>0</td>\n",
       "      <td>0</td>\n",
       "      <td>Chronic cholestasis</td>\n",
       "    </tr>\n",
       "    <tr>\n",
       "      <th>1</th>\n",
       "      <td>1</td>\n",
       "      <td>1</td>\n",
       "      <td>1</td>\n",
       "      <td>1</td>\n",
       "      <td>1</td>\n",
       "      <td>1</td>\n",
       "      <td>1</td>\n",
       "      <td>0</td>\n",
       "      <td>0</td>\n",
       "      <td>0</td>\n",
       "      <td>...</td>\n",
       "      <td>0</td>\n",
       "      <td>0</td>\n",
       "      <td>0</td>\n",
       "      <td>0</td>\n",
       "      <td>0</td>\n",
       "      <td>0</td>\n",
       "      <td>0</td>\n",
       "      <td>0</td>\n",
       "      <td>0</td>\n",
       "      <td>Chronic cholestasis</td>\n",
       "    </tr>\n",
       "    <tr>\n",
       "      <th>2</th>\n",
       "      <td>2</td>\n",
       "      <td>1</td>\n",
       "      <td>0</td>\n",
       "      <td>1</td>\n",
       "      <td>1</td>\n",
       "      <td>1</td>\n",
       "      <td>1</td>\n",
       "      <td>0</td>\n",
       "      <td>0</td>\n",
       "      <td>0</td>\n",
       "      <td>...</td>\n",
       "      <td>0</td>\n",
       "      <td>0</td>\n",
       "      <td>0</td>\n",
       "      <td>0</td>\n",
       "      <td>0</td>\n",
       "      <td>0</td>\n",
       "      <td>0</td>\n",
       "      <td>0</td>\n",
       "      <td>0</td>\n",
       "      <td>Chronic cholestasis</td>\n",
       "    </tr>\n",
       "    <tr>\n",
       "      <th>3</th>\n",
       "      <td>3</td>\n",
       "      <td>1</td>\n",
       "      <td>1</td>\n",
       "      <td>1</td>\n",
       "      <td>1</td>\n",
       "      <td>1</td>\n",
       "      <td>0</td>\n",
       "      <td>0</td>\n",
       "      <td>0</td>\n",
       "      <td>0</td>\n",
       "      <td>...</td>\n",
       "      <td>0</td>\n",
       "      <td>0</td>\n",
       "      <td>0</td>\n",
       "      <td>0</td>\n",
       "      <td>0</td>\n",
       "      <td>0</td>\n",
       "      <td>0</td>\n",
       "      <td>0</td>\n",
       "      <td>0</td>\n",
       "      <td>Chronic cholestasis</td>\n",
       "    </tr>\n",
       "    <tr>\n",
       "      <th>4</th>\n",
       "      <td>4</td>\n",
       "      <td>1</td>\n",
       "      <td>1</td>\n",
       "      <td>1</td>\n",
       "      <td>1</td>\n",
       "      <td>0</td>\n",
       "      <td>1</td>\n",
       "      <td>0</td>\n",
       "      <td>0</td>\n",
       "      <td>0</td>\n",
       "      <td>...</td>\n",
       "      <td>0</td>\n",
       "      <td>0</td>\n",
       "      <td>0</td>\n",
       "      <td>0</td>\n",
       "      <td>0</td>\n",
       "      <td>0</td>\n",
       "      <td>0</td>\n",
       "      <td>0</td>\n",
       "      <td>0</td>\n",
       "      <td>Chronic cholestasis</td>\n",
       "    </tr>\n",
       "    <tr>\n",
       "      <th>...</th>\n",
       "      <td>...</td>\n",
       "      <td>...</td>\n",
       "      <td>...</td>\n",
       "      <td>...</td>\n",
       "      <td>...</td>\n",
       "      <td>...</td>\n",
       "      <td>...</td>\n",
       "      <td>...</td>\n",
       "      <td>...</td>\n",
       "      <td>...</td>\n",
       "      <td>...</td>\n",
       "      <td>...</td>\n",
       "      <td>...</td>\n",
       "      <td>...</td>\n",
       "      <td>...</td>\n",
       "      <td>...</td>\n",
       "      <td>...</td>\n",
       "      <td>...</td>\n",
       "      <td>...</td>\n",
       "      <td>...</td>\n",
       "      <td>...</td>\n",
       "    </tr>\n",
       "    <tr>\n",
       "      <th>2275</th>\n",
       "      <td>2275</td>\n",
       "      <td>0</td>\n",
       "      <td>0</td>\n",
       "      <td>0</td>\n",
       "      <td>0</td>\n",
       "      <td>0</td>\n",
       "      <td>0</td>\n",
       "      <td>1</td>\n",
       "      <td>0</td>\n",
       "      <td>1</td>\n",
       "      <td>...</td>\n",
       "      <td>0</td>\n",
       "      <td>0</td>\n",
       "      <td>0</td>\n",
       "      <td>0</td>\n",
       "      <td>0</td>\n",
       "      <td>0</td>\n",
       "      <td>0</td>\n",
       "      <td>0</td>\n",
       "      <td>0</td>\n",
       "      <td>Common Cold</td>\n",
       "    </tr>\n",
       "    <tr>\n",
       "      <th>2276</th>\n",
       "      <td>2276</td>\n",
       "      <td>0</td>\n",
       "      <td>0</td>\n",
       "      <td>0</td>\n",
       "      <td>0</td>\n",
       "      <td>0</td>\n",
       "      <td>0</td>\n",
       "      <td>0</td>\n",
       "      <td>0</td>\n",
       "      <td>0</td>\n",
       "      <td>...</td>\n",
       "      <td>0</td>\n",
       "      <td>0</td>\n",
       "      <td>0</td>\n",
       "      <td>0</td>\n",
       "      <td>0</td>\n",
       "      <td>0</td>\n",
       "      <td>0</td>\n",
       "      <td>0</td>\n",
       "      <td>0</td>\n",
       "      <td>Dimorphic hemmorhoids(piles)</td>\n",
       "    </tr>\n",
       "    <tr>\n",
       "      <th>2277</th>\n",
       "      <td>2277</td>\n",
       "      <td>0</td>\n",
       "      <td>1</td>\n",
       "      <td>0</td>\n",
       "      <td>0</td>\n",
       "      <td>0</td>\n",
       "      <td>0</td>\n",
       "      <td>0</td>\n",
       "      <td>0</td>\n",
       "      <td>0</td>\n",
       "      <td>...</td>\n",
       "      <td>0</td>\n",
       "      <td>0</td>\n",
       "      <td>0</td>\n",
       "      <td>0</td>\n",
       "      <td>0</td>\n",
       "      <td>0</td>\n",
       "      <td>0</td>\n",
       "      <td>0</td>\n",
       "      <td>0</td>\n",
       "      <td>Heart attack</td>\n",
       "    </tr>\n",
       "    <tr>\n",
       "      <th>2278</th>\n",
       "      <td>2278</td>\n",
       "      <td>0</td>\n",
       "      <td>0</td>\n",
       "      <td>0</td>\n",
       "      <td>0</td>\n",
       "      <td>0</td>\n",
       "      <td>0</td>\n",
       "      <td>1</td>\n",
       "      <td>0</td>\n",
       "      <td>0</td>\n",
       "      <td>...</td>\n",
       "      <td>0</td>\n",
       "      <td>1</td>\n",
       "      <td>1</td>\n",
       "      <td>0</td>\n",
       "      <td>0</td>\n",
       "      <td>0</td>\n",
       "      <td>0</td>\n",
       "      <td>0</td>\n",
       "      <td>0</td>\n",
       "      <td>Hyperthyroidism</td>\n",
       "    </tr>\n",
       "    <tr>\n",
       "      <th>2279</th>\n",
       "      <td>2279</td>\n",
       "      <td>0</td>\n",
       "      <td>0</td>\n",
       "      <td>0</td>\n",
       "      <td>0</td>\n",
       "      <td>0</td>\n",
       "      <td>0</td>\n",
       "      <td>0</td>\n",
       "      <td>0</td>\n",
       "      <td>0</td>\n",
       "      <td>...</td>\n",
       "      <td>0</td>\n",
       "      <td>0</td>\n",
       "      <td>0</td>\n",
       "      <td>0</td>\n",
       "      <td>0</td>\n",
       "      <td>0</td>\n",
       "      <td>0</td>\n",
       "      <td>1</td>\n",
       "      <td>0</td>\n",
       "      <td>Urinary tract infection</td>\n",
       "    </tr>\n",
       "  </tbody>\n",
       "</table>\n",
       "<p>2280 rows × 42 columns</p>\n",
       "</div>"
      ],
      "text/plain": [
       "      Unnamed: 0  loss_of_appetite  vomiting  yellowing_of_eyes  \\\n",
       "0              0                 1         1                  1   \n",
       "1              1                 1         1                  1   \n",
       "2              2                 1         0                  1   \n",
       "3              3                 1         1                  1   \n",
       "4              4                 1         1                  1   \n",
       "...          ...               ...       ...                ...   \n",
       "2275        2275                 0         0                  0   \n",
       "2276        2276                 0         0                  0   \n",
       "2277        2277                 0         1                  0   \n",
       "2278        2278                 0         0                  0   \n",
       "2279        2279                 0         0                  0   \n",
       "\n",
       "      abdominal_pain  nausea  yellowish_skin  fatigue  dark_urine  high_fever  \\\n",
       "0                  1       1               1        0           0           0   \n",
       "1                  1       1               1        0           0           0   \n",
       "2                  1       1               1        0           0           0   \n",
       "3                  1       1               0        0           0           0   \n",
       "4                  1       0               1        0           0           0   \n",
       "...              ...     ...             ...      ...         ...         ...   \n",
       "2275               0       0               0        1           0           1   \n",
       "2276               0       0               0        0           0           0   \n",
       "2277               0       0               0        0           0           0   \n",
       "2278               0       0               0        1           0           0   \n",
       "2279               0       0               0        0           0           0   \n",
       "\n",
       "      ...  painful_walking  muscle_weakness  mood_swings  skin_rash  \\\n",
       "0     ...                0                0            0          0   \n",
       "1     ...                0                0            0          0   \n",
       "2     ...                0                0            0          0   \n",
       "3     ...                0                0            0          0   \n",
       "4     ...                0                0            0          0   \n",
       "...   ...              ...              ...          ...        ...   \n",
       "2275  ...                0                0            0          0   \n",
       "2276  ...                0                0            0          0   \n",
       "2277  ...                0                0            0          0   \n",
       "2278  ...                0                1            1          0   \n",
       "2279  ...                0                0            0          0   \n",
       "\n",
       "      neck_pain  acidity  blood_in_sputum  burning_micturition  \\\n",
       "0             0        0                0                    0   \n",
       "1             0        0                0                    0   \n",
       "2             0        0                0                    0   \n",
       "3             0        0                0                    0   \n",
       "4             0        0                0                    0   \n",
       "...         ...      ...              ...                  ...   \n",
       "2275          0        0                0                    0   \n",
       "2276          0        0                0                    0   \n",
       "2277          0        0                0                    0   \n",
       "2278          0        0                0                    0   \n",
       "2279          0        0                0                    1   \n",
       "\n",
       "      receiving_blood_transfusion                       disease  \n",
       "0                               0           Chronic cholestasis  \n",
       "1                               0           Chronic cholestasis  \n",
       "2                               0           Chronic cholestasis  \n",
       "3                               0           Chronic cholestasis  \n",
       "4                               0           Chronic cholestasis  \n",
       "...                           ...                           ...  \n",
       "2275                            0                   Common Cold  \n",
       "2276                            0  Dimorphic hemmorhoids(piles)  \n",
       "2277                            0                  Heart attack  \n",
       "2278                            0               Hyperthyroidism  \n",
       "2279                            0       Urinary tract infection  \n",
       "\n",
       "[2280 rows x 42 columns]"
      ]
     },
     "execution_count": 30,
     "metadata": {},
     "output_type": "execute_result"
    }
   ],
   "source": [
    "df"
   ]
  },
  {
   "cell_type": "code",
   "execution_count": 31,
   "metadata": {
    "tags": []
   },
   "outputs": [
    {
     "data": {
      "text/plain": [
       "(2280, 42)"
      ]
     },
     "execution_count": 31,
     "metadata": {},
     "output_type": "execute_result"
    }
   ],
   "source": [
    "df.shape"
   ]
  },
  {
   "cell_type": "code",
   "execution_count": 32,
   "metadata": {
    "tags": []
   },
   "outputs": [
    {
     "data": {
      "text/plain": [
       "Index(['loss_of_appetite', 'vomiting', 'yellowing_of_eyes', 'abdominal_pain',\n",
       "       'nausea', 'yellowish_skin', 'fatigue', 'dark_urine', 'high_fever',\n",
       "       'joint_pain', 'malaise', 'chills', 'muscle_pain', 'mild_fever',\n",
       "       'irritability', 'itching', 'dizziness', 'swelled_lymph_nodes',\n",
       "       'excessive_hunger', 'coma', 'stomach_bleeding', 'acute_liver_failure',\n",
       "       'phlegm', 'depression', 'diarrhoea', 'stiff_neck',\n",
       "       'red_spots_over_body', 'loss_of_balance',\n",
       "       'blurred_and_distorted_vision', 'abnormal_menstruation',\n",
       "       'swelling_joints', 'painful_walking', 'muscle_weakness', 'mood_swings',\n",
       "       'skin_rash', 'neck_pain', 'acidity', 'blood_in_sputum',\n",
       "       'burning_micturition', 'receiving_blood_transfusion', 'disease'],\n",
       "      dtype='object')"
      ]
     },
     "execution_count": 32,
     "metadata": {},
     "output_type": "execute_result"
    }
   ],
   "source": [
    "\n",
    "df.drop(['Unnamed: 0'],axis=1, inplace=True)\n",
    "\n",
    "df.columns"
   ]
  },
  {
   "cell_type": "code",
   "execution_count": 33,
   "metadata": {
    "tags": []
   },
   "outputs": [],
   "source": [
    "cols=['loss_of_appetite', 'vomiting', 'yellowing_of_eyes', 'abdominal_pain',\n",
    "       'nausea', 'yellowish_skin', 'fatigue', 'dark_urine', 'high_fever',\n",
    "       'joint_pain', 'malaise', 'chills', 'muscle_pain', 'mild_fever',\n",
    "       'irritability', 'itching', 'dizziness', 'swelled_lymph_nodes',\n",
    "       'excessive_hunger', 'coma', 'stomach_bleeding', 'acute_liver_failure',\n",
    "       'phlegm', 'depression', 'diarrhoea', 'stiff_neck',\n",
    "       'red_spots_over_body', 'loss_of_balance',\n",
    "       'blurred_and_distorted_vision', 'abnormal_menstruation',\n",
    "       'swelling_joints', 'painful_walking', 'muscle_weakness', 'mood_swings',\n",
    "       'skin_rash', 'neck_pain', 'acidity', 'blood_in_sputum',\n",
    "       'burning_micturition', 'receiving_blood_transfusion']\n"
   ]
  },
  {
   "cell_type": "code",
   "execution_count": 34,
   "metadata": {},
   "outputs": [],
   "source": [
    "symptoms={}\n",
    "for c in cols:\n",
    "    symptoms[c]=0\n"
   ]
  },
  {
   "cell_type": "code",
   "execution_count": 35,
   "metadata": {},
   "outputs": [
    {
     "data": {
      "text/plain": [
       "array(['Chronic cholestasis', 'Chronic cholestasis',\n",
       "       'Chronic cholestasis', ..., 'Heart attack', 'Hyperthyroidism',\n",
       "       'Urinary tract infection'], dtype=object)"
      ]
     },
     "execution_count": 35,
     "metadata": {},
     "output_type": "execute_result"
    }
   ],
   "source": [
    "X= df.drop(labels='disease', axis=1)\n",
    "y=df[['disease']]\n",
    "\n",
    "\n",
    "np.ravel(y)"
   ]
  },
  {
   "cell_type": "code",
   "execution_count": 36,
   "metadata": {},
   "outputs": [
    {
     "data": {
      "text/plain": [
       "array(['Chronic cholestasis', 'Chronic cholestasis',\n",
       "       'Chronic cholestasis', ..., 'Heart attack', 'Hyperthyroidism',\n",
       "       'Urinary tract infection'], dtype=object)"
      ]
     },
     "execution_count": 36,
     "metadata": {},
     "output_type": "execute_result"
    }
   ],
   "source": [
    "X_test= df.drop(labels='disease', axis=1)\n",
    "y_test =[df.loc[:,'disease']]\n",
    "np.ravel(y_test)"
   ]
  },
  {
   "cell_type": "code",
   "execution_count": 37,
   "metadata": {},
   "outputs": [
    {
     "data": {
      "text/html": [
       "<div>\n",
       "<style scoped>\n",
       "    .dataframe tbody tr th:only-of-type {\n",
       "        vertical-align: middle;\n",
       "    }\n",
       "\n",
       "    .dataframe tbody tr th {\n",
       "        vertical-align: top;\n",
       "    }\n",
       "\n",
       "    .dataframe thead th {\n",
       "        text-align: right;\n",
       "    }\n",
       "</style>\n",
       "<table border=\"1\" class=\"dataframe\">\n",
       "  <thead>\n",
       "    <tr style=\"text-align: right;\">\n",
       "      <th></th>\n",
       "      <th>loss_of_appetite</th>\n",
       "      <th>vomiting</th>\n",
       "      <th>yellowing_of_eyes</th>\n",
       "      <th>abdominal_pain</th>\n",
       "      <th>nausea</th>\n",
       "      <th>yellowish_skin</th>\n",
       "      <th>fatigue</th>\n",
       "      <th>dark_urine</th>\n",
       "      <th>high_fever</th>\n",
       "      <th>joint_pain</th>\n",
       "      <th>...</th>\n",
       "      <th>painful_walking</th>\n",
       "      <th>muscle_weakness</th>\n",
       "      <th>mood_swings</th>\n",
       "      <th>skin_rash</th>\n",
       "      <th>neck_pain</th>\n",
       "      <th>acidity</th>\n",
       "      <th>blood_in_sputum</th>\n",
       "      <th>burning_micturition</th>\n",
       "      <th>receiving_blood_transfusion</th>\n",
       "      <th>disease</th>\n",
       "    </tr>\n",
       "  </thead>\n",
       "  <tbody>\n",
       "    <tr>\n",
       "      <th>0</th>\n",
       "      <td>1</td>\n",
       "      <td>1</td>\n",
       "      <td>1</td>\n",
       "      <td>1</td>\n",
       "      <td>1</td>\n",
       "      <td>1</td>\n",
       "      <td>0</td>\n",
       "      <td>0</td>\n",
       "      <td>0</td>\n",
       "      <td>0</td>\n",
       "      <td>...</td>\n",
       "      <td>0</td>\n",
       "      <td>0</td>\n",
       "      <td>0</td>\n",
       "      <td>0</td>\n",
       "      <td>0</td>\n",
       "      <td>0</td>\n",
       "      <td>0</td>\n",
       "      <td>0</td>\n",
       "      <td>0</td>\n",
       "      <td>Chronic cholestasis</td>\n",
       "    </tr>\n",
       "    <tr>\n",
       "      <th>1</th>\n",
       "      <td>1</td>\n",
       "      <td>1</td>\n",
       "      <td>1</td>\n",
       "      <td>1</td>\n",
       "      <td>1</td>\n",
       "      <td>1</td>\n",
       "      <td>0</td>\n",
       "      <td>0</td>\n",
       "      <td>0</td>\n",
       "      <td>0</td>\n",
       "      <td>...</td>\n",
       "      <td>0</td>\n",
       "      <td>0</td>\n",
       "      <td>0</td>\n",
       "      <td>0</td>\n",
       "      <td>0</td>\n",
       "      <td>0</td>\n",
       "      <td>0</td>\n",
       "      <td>0</td>\n",
       "      <td>0</td>\n",
       "      <td>Chronic cholestasis</td>\n",
       "    </tr>\n",
       "    <tr>\n",
       "      <th>2</th>\n",
       "      <td>1</td>\n",
       "      <td>0</td>\n",
       "      <td>1</td>\n",
       "      <td>1</td>\n",
       "      <td>1</td>\n",
       "      <td>1</td>\n",
       "      <td>0</td>\n",
       "      <td>0</td>\n",
       "      <td>0</td>\n",
       "      <td>0</td>\n",
       "      <td>...</td>\n",
       "      <td>0</td>\n",
       "      <td>0</td>\n",
       "      <td>0</td>\n",
       "      <td>0</td>\n",
       "      <td>0</td>\n",
       "      <td>0</td>\n",
       "      <td>0</td>\n",
       "      <td>0</td>\n",
       "      <td>0</td>\n",
       "      <td>Chronic cholestasis</td>\n",
       "    </tr>\n",
       "    <tr>\n",
       "      <th>3</th>\n",
       "      <td>1</td>\n",
       "      <td>1</td>\n",
       "      <td>1</td>\n",
       "      <td>1</td>\n",
       "      <td>1</td>\n",
       "      <td>0</td>\n",
       "      <td>0</td>\n",
       "      <td>0</td>\n",
       "      <td>0</td>\n",
       "      <td>0</td>\n",
       "      <td>...</td>\n",
       "      <td>0</td>\n",
       "      <td>0</td>\n",
       "      <td>0</td>\n",
       "      <td>0</td>\n",
       "      <td>0</td>\n",
       "      <td>0</td>\n",
       "      <td>0</td>\n",
       "      <td>0</td>\n",
       "      <td>0</td>\n",
       "      <td>Chronic cholestasis</td>\n",
       "    </tr>\n",
       "    <tr>\n",
       "      <th>4</th>\n",
       "      <td>1</td>\n",
       "      <td>1</td>\n",
       "      <td>1</td>\n",
       "      <td>1</td>\n",
       "      <td>0</td>\n",
       "      <td>1</td>\n",
       "      <td>0</td>\n",
       "      <td>0</td>\n",
       "      <td>0</td>\n",
       "      <td>0</td>\n",
       "      <td>...</td>\n",
       "      <td>0</td>\n",
       "      <td>0</td>\n",
       "      <td>0</td>\n",
       "      <td>0</td>\n",
       "      <td>0</td>\n",
       "      <td>0</td>\n",
       "      <td>0</td>\n",
       "      <td>0</td>\n",
       "      <td>0</td>\n",
       "      <td>Chronic cholestasis</td>\n",
       "    </tr>\n",
       "  </tbody>\n",
       "</table>\n",
       "<p>5 rows × 41 columns</p>\n",
       "</div>"
      ],
      "text/plain": [
       "   loss_of_appetite  vomiting  yellowing_of_eyes  abdominal_pain  nausea  \\\n",
       "0                 1         1                  1               1       1   \n",
       "1                 1         1                  1               1       1   \n",
       "2                 1         0                  1               1       1   \n",
       "3                 1         1                  1               1       1   \n",
       "4                 1         1                  1               1       0   \n",
       "\n",
       "   yellowish_skin  fatigue  dark_urine  high_fever  joint_pain  ...  \\\n",
       "0               1        0           0           0           0  ...   \n",
       "1               1        0           0           0           0  ...   \n",
       "2               1        0           0           0           0  ...   \n",
       "3               0        0           0           0           0  ...   \n",
       "4               1        0           0           0           0  ...   \n",
       "\n",
       "   painful_walking  muscle_weakness  mood_swings  skin_rash  neck_pain  \\\n",
       "0                0                0            0          0          0   \n",
       "1                0                0            0          0          0   \n",
       "2                0                0            0          0          0   \n",
       "3                0                0            0          0          0   \n",
       "4                0                0            0          0          0   \n",
       "\n",
       "   acidity  blood_in_sputum  burning_micturition  receiving_blood_transfusion  \\\n",
       "0        0                0                    0                            0   \n",
       "1        0                0                    0                            0   \n",
       "2        0                0                    0                            0   \n",
       "3        0                0                    0                            0   \n",
       "4        0                0                    0                            0   \n",
       "\n",
       "               disease  \n",
       "0  Chronic cholestasis  \n",
       "1  Chronic cholestasis  \n",
       "2  Chronic cholestasis  \n",
       "3  Chronic cholestasis  \n",
       "4  Chronic cholestasis  \n",
       "\n",
       "[5 rows x 41 columns]"
      ]
     },
     "execution_count": 37,
     "metadata": {},
     "output_type": "execute_result"
    }
   ],
   "source": [
    "df.head()"
   ]
  },
  {
   "cell_type": "code",
   "execution_count": 38,
   "metadata": {},
   "outputs": [],
   "source": [
    "\n",
    "\n",
    "def DecisionTree():\n",
    "\n",
    "   import joblib\n",
    "  \n",
    "   terms=[list(symptoms.values())]\n",
    "   print(terms)\n",
    "   #load the logistic regression pickle file\n",
    "   classifier = joblib.load('final_models/dt_final.pkl')\n",
    "   #checking and predicting\n",
    "   #checkprediction = inputScript.main(url)\n",
    "   prediction = classifier.predict(terms)\n",
    "   print(prediction)\n",
    "   predicted=prediction[0]\n",
    "   t1.delete(\"1.0\", END)\n",
    "   t1.insert(END, predicted)\n",
    "\n",
    "   \n",
    "   "
   ]
  },
  {
   "cell_type": "code",
   "execution_count": 39,
   "metadata": {},
   "outputs": [],
   "source": [
    "def randomforest():\n",
    "    import joblib\n",
    "    terms=[list(symptoms.values())]\n",
    "    print(terms)\n",
    "    #load the logistic regression pickle file\n",
    "    classifier = joblib.load('final_models/rf_final.pkl')\n",
    "   \n",
    "    prediction = classifier.predict(terms)\n",
    "    print(prediction)\n",
    "    predicted=prediction[0]\n",
    "    t2.delete(\"1.0\", END)\n",
    "    t2.insert(END, predicted)\n",
    "    \n",
    "\n"
   ]
  },
  {
   "cell_type": "code",
   "execution_count": 40,
   "metadata": {},
   "outputs": [],
   "source": [
    "\n",
    "def lr():\n",
    "    import joblib\n",
    "    terms=[list(symptoms.values())]\n",
    "    print(terms)\n",
    "    #load the logistic regression pickle file\n",
    "    classifier = joblib.load('final_models/lr_final.pkl')\n",
    "    #checking and predicting\n",
    "    #checkprediction = inputScript.main(url)\n",
    "    prediction = classifier.predict(terms)\n",
    "    print(prediction)\n",
    "    predicted=prediction[0]\n",
    "    t3.delete(\"1.0\", END)\n",
    "    t3.insert(END, predicted)\n",
    "    \n",
    "    \n"
   ]
  },
  {
   "cell_type": "code",
   "execution_count": 41,
   "metadata": {},
   "outputs": [],
   "source": [
    "\n",
    "def SVC():\n",
    "    import joblib\n",
    "    \n",
    "    terms=[list(symptoms.values())]\n",
    "    print(terms)\n",
    "   \n",
    "\n",
    "    #load the logistic SVC pickle file\n",
    "    classifier = joblib.load('final_models/svc_final.pkl')\n",
    "    #checking and predicting\n",
    "    #checkprediction = inputScript.main(url)\n",
    "    prediction = classifier.predict(terms)\n",
    "    print(prediction)\n",
    "    predicted=prediction[0]\n",
    "\n",
    "    t4.delete(\"1.0\", END)\n",
    "    t4.insert(END, predicted)\n"
   ]
  },
  {
   "cell_type": "code",
   "execution_count": 42,
   "metadata": {},
   "outputs": [],
   "source": [
    "\n",
    "def selected_item():\n",
    "     \n",
    "    # Traverse the tuple returned by\n",
    "    # curselection method and print\n",
    "    # corresponding value(s) in the listbox\n",
    "    for i in listbox.curselection():\n",
    "        print(listbox.get(i))\n",
    "        s=listbox.get(i)\n",
    "        symptoms[s]=1\n",
    "     \n",
    "    selsym=''\n",
    "    for k,v in symptoms.items():\n",
    "        if v==1:\n",
    "            selsym=selsym+k+','\n",
    "    selsym=selsym[:-1]        \n",
    "    T.delete('1.0', END)        \n",
    "    T.insert(END,selsym)    \n",
    "    \n",
    "    \n",
    "def selected_item2():\n",
    "     \n",
    "    # Traverse the tuple returned by\n",
    "    # curselection method and print\n",
    "    # corresponding value(s) in the listbox\n",
    "    for i in listbox.curselection():\n",
    "        print(listbox.get(i))\n",
    "        s=listbox.get(i)\n",
    "        symptoms[s]=0\n",
    "     \n",
    "    selsym=''\n",
    "    for k,v in symptoms.items():\n",
    "        if v==1:\n",
    "            selsym=selsym+k+','\n",
    "    selsym=selsym[:-1]        \n",
    "    T.delete('1.0', END)        \n",
    "    T.insert(END,selsym)        \n"
   ]
  },
  {
   "cell_type": "code",
   "execution_count": 43,
   "metadata": {},
   "outputs": [],
   "source": [
    "root = Tk()\n",
    "root.title(\"Disease Prediction Based on Symptoms\")\n",
    "#root.configure(background='black')\n",
    "canvas = Canvas(root,width=1880,height=1253)\n",
    "canvas.pack()\n",
    "#photo = PhotoImage(file ='heart1.png')\n",
    "#canvas.create_image(0,0,image=photo,anchor=NW)\n",
    "\n",
    "\n",
    "# entry variables\n",
    "'''\n",
    "cp1 = IntVar()\n",
    "trestbps1 = IntVar()\n",
    "chol1 = IntVar()\n",
    "fbs1 = IntVar()\n",
    "restecg1 = IntVar()\n",
    "thalac1 = IntVar()\n",
    "exang1 = IntVar()\n",
    "oldpeak1 = IntVar()\n",
    "slope1 = IntVar()\n",
    "ca1 = IntVar()\n",
    "thal1 = IntVar()\n",
    "'''\n",
    "# Heading\n",
    "w2 = Label(canvas, justify=LEFT, text=\"Disease Prediction using Machine Learning\", fg=\"white\", bg=\"red\")\n",
    "w2.config(font=(\"Elephant\", 20))\n",
    "w2.grid(row=1, column=0, columnspan=2, padx=100)\n",
    "w2 = Label(canvas, justify=LEFT, text=\"Hospital\", fg=\"green\")\n",
    "w2.config(font=(\"Times Roman\", 15))\n",
    "w2.grid(row=2, column=0, columnspan=2, padx=100)\n",
    "\n",
    "# labels\n",
    "lb1 = Label(canvas, height=1, width=30, text=\"Select Symptoms\",fg=\"yellow\", bg=\"black\")\n",
    "lb1.grid(row=3, column=0, pady=15, sticky=W)\n",
    "list1 = tk.StringVar(value=cols)\n",
    "listbox = Listbox(canvas,listvariable=list1)  \n",
    "listbox.grid(row=4, column=0,rowspan=2)\n",
    "\n",
    "btn = Button(canvas, text='Add Symptom', command=selected_item)\n",
    "btn.grid(row=4, column=1)\n",
    "btn2 = Button(canvas, text='Remove Symptom', command=selected_item2)\n",
    "btn2.grid(row=5, column=1)\n",
    "\n",
    "lb2 = Label(canvas, height=1, width=30, text=\"Selected Symptoms\",fg=\"yellow\", bg=\"black\")\n",
    "lb2.grid(row=6, column=0, pady=15, sticky=W)\n",
    "T = Text(canvas, height = 5, width = 52)\n",
    "T.grid(row=7, column=0)\n",
    "\n"
   ]
  },
  {
   "cell_type": "code",
   "execution_count": 44,
   "metadata": {},
   "outputs": [],
   "source": [
    "\n",
    "\n",
    "destreeLb = Label(canvas, text=\"DecisionTree\", fg=\"white\", bg=\"red\")\n",
    "destreeLb.grid(row=14, column=0, pady=10,sticky=W)\n",
    "\n",
    "ranfLb = Label(canvas, text=\"RandomForest\", fg=\"white\", bg=\"red\")\n",
    "ranfLb.grid(row=15, column=0, pady=10, sticky=W)\n",
    "\n",
    "lrLb = Label(canvas, text=\"LogisticRegression\", fg=\"white\", bg=\"red\")\n",
    "lrLb.grid(row=16, column=0, pady=10, sticky=W)\n",
    "\n",
    "\n",
    "\n",
    "svLb = Label(canvas, text=\"SVC\", fg=\"white\", bg=\"red\")\n",
    "svLb.grid(row=17, column=0, pady=10, sticky=W)"
   ]
  },
  {
   "cell_type": "code",
   "execution_count": 45,
   "metadata": {},
   "outputs": [],
   "source": [
    "\n",
    "dst = Button(canvas, text=\"DecisionTree Algorithm\", command=DecisionTree,bg=\"cyan\",fg=\"green\")\n",
    "dst.grid(row=14, column=1,padx=10)\n",
    "\n",
    "rnf = Button(canvas, text=\"Randomforest Algorithm\", command=randomforest,bg=\"cyan\",fg=\"green\")\n",
    "rnf.grid(row=15, column=1,padx=10)\n",
    "\n",
    "lr = Button(canvas, text=\"LogisticRegression Algorithm\", command=lr,bg=\"cyan\",fg=\"green\")\n",
    "lr.grid(row=16, column=1,padx=10)\n",
    "\n",
    "\n",
    "\n",
    "sv = Button(canvas, text=\"SVC Algorithm\", command=SVC,bg=\"cyan\",fg=\"green\")\n",
    "sv.grid(row=17, column=1,padx=10)"
   ]
  },
  {
   "cell_type": "code",
   "execution_count": 46,
   "metadata": {},
   "outputs": [
    {
     "name": "stdout",
     "output_type": "stream",
     "text": [
      "loss_of_appetite\n",
      "abdominal_pain\n",
      "high_fever\n",
      "stomach_bleeding\n",
      "[[1, 0, 0, 1, 0, 0, 0, 0, 1, 0, 0, 0, 0, 0, 0, 0, 0, 0, 0, 0, 1, 0, 0, 0, 0, 0, 0, 0, 0, 0, 0, 0, 0, 0, 0, 0, 0, 0, 0, 0]]\n"
     ]
    },
    {
     "name": "stderr",
     "output_type": "stream",
     "text": [
      "C:\\Users\\user\\anaconda3\\Lib\\site-packages\\sklearn\\base.py:439: UserWarning: X does not have valid feature names, but DecisionTreeClassifier was fitted with feature names\n",
      "  warnings.warn(\n"
     ]
    },
    {
     "name": "stdout",
     "output_type": "stream",
     "text": [
      "['Chronic cholestasis']\n",
      "[[1, 0, 0, 1, 0, 0, 0, 0, 1, 0, 0, 0, 0, 0, 0, 0, 0, 0, 0, 0, 1, 0, 0, 0, 0, 0, 0, 0, 0, 0, 0, 0, 0, 0, 0, 0, 0, 0, 0, 0]]\n"
     ]
    },
    {
     "name": "stderr",
     "output_type": "stream",
     "text": [
      "C:\\Users\\user\\anaconda3\\Lib\\site-packages\\sklearn\\base.py:439: UserWarning: X does not have valid feature names, but RandomForestClassifier was fitted with feature names\n",
      "  warnings.warn(\n"
     ]
    },
    {
     "name": "stdout",
     "output_type": "stream",
     "text": [
      "['AIDS']\n",
      "[[1, 0, 0, 1, 0, 0, 0, 0, 1, 0, 0, 0, 0, 0, 0, 0, 0, 0, 0, 0, 1, 0, 0, 0, 0, 0, 0, 0, 0, 0, 0, 0, 0, 0, 0, 0, 0, 0, 0, 0]]\n",
      "['AIDS']\n"
     ]
    },
    {
     "name": "stderr",
     "output_type": "stream",
     "text": [
      "C:\\Users\\user\\anaconda3\\Lib\\site-packages\\sklearn\\base.py:439: UserWarning: X does not have valid feature names, but LogisticRegression was fitted with feature names\n",
      "  warnings.warn(\n"
     ]
    },
    {
     "name": "stdout",
     "output_type": "stream",
     "text": [
      "[[1, 0, 0, 1, 0, 0, 0, 0, 1, 0, 0, 0, 0, 0, 0, 0, 0, 0, 0, 0, 1, 0, 0, 0, 0, 0, 0, 0, 0, 0, 0, 0, 0, 0, 0, 0, 0, 0, 0, 0]]\n",
      "['AIDS']\n"
     ]
    },
    {
     "name": "stderr",
     "output_type": "stream",
     "text": [
      "C:\\Users\\user\\anaconda3\\Lib\\site-packages\\sklearn\\base.py:439: UserWarning: X does not have valid feature names, but SVC was fitted with feature names\n",
      "  warnings.warn(\n"
     ]
    },
    {
     "name": "stdout",
     "output_type": "stream",
     "text": [
      "stomach_bleeding\n",
      "[[1, 0, 0, 1, 0, 0, 0, 0, 1, 0, 0, 0, 0, 0, 0, 0, 0, 0, 0, 0, 0, 0, 0, 0, 0, 0, 0, 0, 0, 0, 0, 0, 0, 0, 0, 0, 0, 0, 0, 0]]\n",
      "['Chronic cholestasis']\n"
     ]
    },
    {
     "name": "stderr",
     "output_type": "stream",
     "text": [
      "C:\\Users\\user\\anaconda3\\Lib\\site-packages\\sklearn\\base.py:439: UserWarning: X does not have valid feature names, but DecisionTreeClassifier was fitted with feature names\n",
      "  warnings.warn(\n"
     ]
    },
    {
     "name": "stdout",
     "output_type": "stream",
     "text": [
      "[[1, 0, 0, 1, 0, 0, 0, 0, 1, 0, 0, 0, 0, 0, 0, 0, 0, 0, 0, 0, 0, 0, 0, 0, 0, 0, 0, 0, 0, 0, 0, 0, 0, 0, 0, 0, 0, 0, 0, 0]]\n",
      "['AIDS']\n"
     ]
    },
    {
     "name": "stderr",
     "output_type": "stream",
     "text": [
      "C:\\Users\\user\\anaconda3\\Lib\\site-packages\\sklearn\\base.py:439: UserWarning: X does not have valid feature names, but RandomForestClassifier was fitted with feature names\n",
      "  warnings.warn(\n"
     ]
    },
    {
     "name": "stdout",
     "output_type": "stream",
     "text": [
      "[[1, 0, 0, 1, 0, 0, 0, 0, 1, 0, 0, 0, 0, 0, 0, 0, 0, 0, 0, 0, 0, 0, 0, 0, 0, 0, 0, 0, 0, 0, 0, 0, 0, 0, 0, 0, 0, 0, 0, 0]]\n",
      "['AIDS']\n"
     ]
    },
    {
     "name": "stderr",
     "output_type": "stream",
     "text": [
      "C:\\Users\\user\\anaconda3\\Lib\\site-packages\\sklearn\\base.py:439: UserWarning: X does not have valid feature names, but LogisticRegression was fitted with feature names\n",
      "  warnings.warn(\n"
     ]
    },
    {
     "name": "stdout",
     "output_type": "stream",
     "text": [
      "[[1, 0, 0, 1, 0, 0, 0, 0, 1, 0, 0, 0, 0, 0, 0, 0, 0, 0, 0, 0, 0, 0, 0, 0, 0, 0, 0, 0, 0, 0, 0, 0, 0, 0, 0, 0, 0, 0, 0, 0]]\n",
      "['AIDS']\n"
     ]
    },
    {
     "name": "stderr",
     "output_type": "stream",
     "text": [
      "C:\\Users\\user\\anaconda3\\Lib\\site-packages\\sklearn\\base.py:439: UserWarning: X does not have valid feature names, but SVC was fitted with feature names\n",
      "  warnings.warn(\n"
     ]
    },
    {
     "name": "stdout",
     "output_type": "stream",
     "text": [
      "dizziness\n",
      "acidity\n",
      "[[1, 0, 0, 1, 0, 0, 0, 0, 1, 0, 0, 0, 0, 0, 0, 0, 1, 0, 0, 0, 0, 0, 0, 0, 0, 0, 0, 0, 0, 0, 0, 0, 0, 0, 0, 0, 1, 0, 0, 0]]\n",
      "['Migraine']\n"
     ]
    },
    {
     "name": "stderr",
     "output_type": "stream",
     "text": [
      "C:\\Users\\user\\anaconda3\\Lib\\site-packages\\sklearn\\base.py:439: UserWarning: X does not have valid feature names, but DecisionTreeClassifier was fitted with feature names\n",
      "  warnings.warn(\n"
     ]
    },
    {
     "name": "stdout",
     "output_type": "stream",
     "text": [
      "[[1, 0, 0, 1, 0, 0, 0, 0, 1, 0, 0, 0, 0, 0, 0, 0, 1, 0, 0, 0, 0, 0, 0, 0, 0, 0, 0, 0, 0, 0, 0, 0, 0, 0, 0, 0, 1, 0, 0, 0]]\n",
      "['Hypertension ']\n"
     ]
    },
    {
     "name": "stderr",
     "output_type": "stream",
     "text": [
      "C:\\Users\\user\\anaconda3\\Lib\\site-packages\\sklearn\\base.py:439: UserWarning: X does not have valid feature names, but RandomForestClassifier was fitted with feature names\n",
      "  warnings.warn(\n"
     ]
    },
    {
     "name": "stdout",
     "output_type": "stream",
     "text": [
      "[[1, 0, 0, 1, 0, 0, 0, 0, 1, 0, 0, 0, 0, 0, 0, 0, 1, 0, 0, 0, 0, 0, 0, 0, 0, 0, 0, 0, 0, 0, 0, 0, 0, 0, 0, 0, 1, 0, 0, 0]]\n",
      "['AIDS']\n"
     ]
    },
    {
     "name": "stderr",
     "output_type": "stream",
     "text": [
      "C:\\Users\\user\\anaconda3\\Lib\\site-packages\\sklearn\\base.py:439: UserWarning: X does not have valid feature names, but LogisticRegression was fitted with feature names\n",
      "  warnings.warn(\n"
     ]
    },
    {
     "name": "stdout",
     "output_type": "stream",
     "text": [
      "[[1, 0, 0, 1, 0, 0, 0, 0, 1, 0, 0, 0, 0, 0, 0, 0, 1, 0, 0, 0, 0, 0, 0, 0, 0, 0, 0, 0, 0, 0, 0, 0, 0, 0, 0, 0, 1, 0, 0, 0]]\n",
      "['Hypertension ']\n"
     ]
    },
    {
     "name": "stderr",
     "output_type": "stream",
     "text": [
      "C:\\Users\\user\\anaconda3\\Lib\\site-packages\\sklearn\\base.py:439: UserWarning: X does not have valid feature names, but SVC was fitted with feature names\n",
      "  warnings.warn(\n"
     ]
    },
    {
     "name": "stdout",
     "output_type": "stream",
     "text": [
      "[[1, 0, 0, 1, 0, 0, 0, 0, 1, 0, 0, 0, 0, 0, 0, 0, 1, 0, 0, 0, 0, 0, 0, 0, 0, 0, 0, 0, 0, 0, 0, 0, 0, 0, 0, 0, 1, 0, 0, 0]]\n",
      "['AIDS']\n"
     ]
    },
    {
     "name": "stderr",
     "output_type": "stream",
     "text": [
      "C:\\Users\\user\\anaconda3\\Lib\\site-packages\\sklearn\\base.py:439: UserWarning: X does not have valid feature names, but LogisticRegression was fitted with feature names\n",
      "  warnings.warn(\n"
     ]
    }
   ],
   "source": [
    "\n",
    "#textfileds\n",
    "t1 = Text(canvas, height=1, width=40,bg=\"orange\",fg=\"black\")\n",
    "t1.grid(row=14, column=0, padx=10)\n",
    "\n",
    "t2 = Text(canvas, height=1, width=40,bg=\"orange\",fg=\"black\")\n",
    "t2.grid(row=15, column=0 , padx=10)\n",
    "\n",
    "t3 = Text(canvas, height=1, width=40,bg=\"orange\",fg=\"black\")\n",
    "t3.grid(row=16, column=0 , padx=10)\n",
    "\n",
    "\n",
    "t4 = Text(canvas, height=1, width=40,bg=\"orange\",fg=\"black\")\n",
    "t4.grid(row=17, column=0 , padx=10)\n",
    "\n",
    "root.mainloop()"
   ]
  },
  {
   "cell_type": "code",
   "execution_count": null,
   "metadata": {},
   "outputs": [],
   "source": []
  },
  {
   "cell_type": "code",
   "execution_count": null,
   "metadata": {},
   "outputs": [],
   "source": []
  },
  {
   "cell_type": "code",
   "execution_count": null,
   "metadata": {},
   "outputs": [],
   "source": []
  },
  {
   "cell_type": "code",
   "execution_count": null,
   "metadata": {},
   "outputs": [],
   "source": []
  }
 ],
 "metadata": {
  "kernelspec": {
   "display_name": "Python 3 (ipykernel)",
   "language": "python",
   "name": "python3"
  },
  "language_info": {
   "codemirror_mode": {
    "name": "ipython",
    "version": 3
   },
   "file_extension": ".py",
   "mimetype": "text/x-python",
   "name": "python",
   "nbconvert_exporter": "python",
   "pygments_lexer": "ipython3",
   "version": "3.11.3"
  }
 },
 "nbformat": 4,
 "nbformat_minor": 4
}
