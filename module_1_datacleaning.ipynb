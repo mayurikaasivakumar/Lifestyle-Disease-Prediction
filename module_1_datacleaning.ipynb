{
 "cells": [
  {
   "cell_type": "code",
   "execution_count": null,
   "id": "d18f2e36-e87d-4046-acb1-ae2ac62c1b79",
   "metadata": {
    "tags": []
   },
   "outputs": [],
   "source": [
    "import numpy as np\n",
    "import pandas as pd\n",
    "import matplotlib.pyplot as plt\n",
    "import seaborn as s"
   ]
  },
  {
   "cell_type": "code",
   "execution_count": null,
   "id": "c861ba3e-0c2e-47b9-9aec-1356082c69fd",
   "metadata": {
    "tags": []
   },
   "outputs": [],
   "source": [
    "df = pd.read_csv('dataset/training_data.csv')"
   ]
  },
  {
   "cell_type": "code",
   "execution_count": null,
   "id": "6ee482e1-c0f5-471d-be7a-58fca6f32d56",
   "metadata": {
    "tags": []
   },
   "outputs": [],
   "source": [
    "df.head()"
   ]
  },
  {
   "cell_type": "code",
   "execution_count": null,
   "id": "d3943661-53b1-4c68-b3c4-669515947f32",
   "metadata": {
    "tags": []
   },
   "outputs": [],
   "source": [
    "df['prognosis'].unique()"
   ]
  },
  {
   "cell_type": "code",
   "execution_count": null,
   "id": "446399f1-26b5-4b7a-91ed-4d8bb5d09a85",
   "metadata": {
    "tags": []
   },
   "outputs": [],
   "source": [
    "cols=['Heart attack', 'AIDS', 'Alcoholic hepatitis', 'Chronic cholestasis', 'Common Cold',\n",
    "        'Diabetes', 'Dimorphic hemmorhoids(piles)', 'hepatitis A',\n",
    "       'Hepatitis B', 'Hepatitis C', 'Hepatitis D', 'Hepatitis E', 'Hypertension ', 'Hyperthyroidism', 'Migraine',\n",
    "        'Jaundice', 'Urinary tract infection', 'Typhoid', 'Paralysis (brain hemorrhage)', 'Bronchial Asthma']"
   ]
  },
  {
   "cell_type": "code",
   "execution_count": null,
   "id": "d0b02a87-4bc6-4bf9-93ca-7d361f6fef7f",
   "metadata": {
    "tags": []
   },
   "outputs": [],
   "source": [
    "df.shape\n"
   ]
  },
  {
   "cell_type": "code",
   "execution_count": null,
   "id": "e2caf01f-9d0e-4c5e-9c32-3468ffc5d2aa",
   "metadata": {
    "tags": []
   },
   "outputs": [],
   "source": [
    "df.drop(['Unnamed: 133'],axis=1, inplace=True)\n",
    "trainingcols=df.columns\n",
    "print(trainingcols)    "
   ]
  },
  {
   "cell_type": "code",
   "execution_count": null,
   "id": "5910d730-22fc-40cc-be4e-7ce27c538c17",
   "metadata": {},
   "outputs": [],
   "source": [
    "diseases=df[\"prognosis\"].to_numpy()\n",
    "diseases"
   ]
  },
  {
   "cell_type": "code",
   "execution_count": null,
   "id": "bec87afe-b804-4ef4-b614-f8aa50942fed",
   "metadata": {
    "tags": []
   },
   "outputs": [],
   "source": [
    "list = df.values\n",
    "\n",
    "dflist=list.tolist()\n",
    "print(dflist)\n",
    "        "
   ]
  },
  {
   "cell_type": "code",
   "execution_count": null,
   "id": "2c1b0037-5585-4173-8731-8fa9e3c7b396",
   "metadata": {},
   "outputs": [],
   "source": [
    "print(dflist[0])"
   ]
  },
  {
   "cell_type": "code",
   "execution_count": null,
   "id": "07652cfb-f4a7-438e-98e5-b948f6bc43d4",
   "metadata": {
    "tags": []
   },
   "outputs": [],
   "source": [
    "newlist=[]\n",
    "for i,v in enumerate(dflist):\n",
    "    if v[-1] in cols:\n",
    "        newlist.append(v)\n"
   ]
  },
  {
   "cell_type": "code",
   "execution_count": null,
   "id": "f2cb50ff-d219-4702-8b89-d0c2827fc2d5",
   "metadata": {
    "tags": []
   },
   "outputs": [],
   "source": [
    "\n",
    "print(newlist)"
   ]
  },
  {
   "cell_type": "code",
   "execution_count": null,
   "id": "35b5922a-07c3-4661-9f94-efa8618ca327",
   "metadata": {
    "tags": []
   },
   "outputs": [],
   "source": [
    "df2=pd.DataFrame(newlist,columns=trainingcols)"
   ]
  },
  {
   "cell_type": "code",
   "execution_count": null,
   "id": "05e795fc-6299-4ba7-b281-af8347f29666",
   "metadata": {
    "tags": []
   },
   "outputs": [],
   "source": [
    "df2.to_csv('newlist.csv')"
   ]
  },
  {
   "cell_type": "code",
   "execution_count": null,
   "id": "7edab541-7a6d-4ea3-89d7-b4a6be779a76",
   "metadata": {
    "tags": []
   },
   "outputs": [],
   "source": [
    "df2.shape"
   ]
  },
  {
   "cell_type": "code",
   "execution_count": null,
   "id": "c1dc4a32-6f1c-49f8-a145-ec51231084d3",
   "metadata": {
    "tags": []
   },
   "outputs": [],
   "source": [
    "df2.columns"
   ]
  },
  {
   "cell_type": "code",
   "execution_count": null,
   "id": "cbbd232c-e1d7-4455-a2e1-06f3c0b25022",
   "metadata": {
    "tags": []
   },
   "outputs": [],
   "source": [
    "for column in df2.columns:\n",
    "    list1 = df2[column].tolist()\n",
    "    flag = False\n",
    "    for v in list1:\n",
    "        if v == 1:\n",
    "            flag=True\n",
    "            break\n",
    "    \n",
    "    if flag == False:\n",
    "        if column != 'prognosis':\n",
    "            print(flag)\n",
    "            print(column)\n",
    "            df2=df2.drop(columns=[column])\n",
    "        "
   ]
  },
  {
   "cell_type": "code",
   "execution_count": null,
   "id": "a72e5827-9d59-43e5-9d5a-8773658511b5",
   "metadata": {
    "tags": []
   },
   "outputs": [],
   "source": [
    "df2.columns"
   ]
  },
  {
   "cell_type": "code",
   "execution_count": null,
   "id": "c89af7cf-4fe2-444b-a8d7-27de8f38daa0",
   "metadata": {
    "tags": []
   },
   "outputs": [],
   "source": [
    "df2.describe()"
   ]
  },
  {
   "cell_type": "code",
   "execution_count": null,
   "id": "ff437ead-833b-4028-99c4-2abb7f667105",
   "metadata": {
    "tags": []
   },
   "outputs": [],
   "source": [
    "pd.Categorical(df['prognosis']).describe()"
   ]
  },
  {
   "cell_type": "code",
   "execution_count": null,
   "id": "3c8c9393-cf47-4ebf-8480-4041ed8efb6f",
   "metadata": {
    "tags": []
   },
   "outputs": [],
   "source": [
    "pd.crosstab(df2.prognosis,df2.itching)"
   ]
  },
  {
   "cell_type": "code",
   "execution_count": null,
   "id": "28772e7f-c8d6-4ffd-80dd-f4ed76b174fd",
   "metadata": {
    "tags": []
   },
   "outputs": [],
   "source": [
    "pd.crosstab(df2.prognosis,df2.vomiting)"
   ]
  },
  {
   "cell_type": "code",
   "execution_count": null,
   "id": "54edfa93-97fb-4cc2-af2a-95d7ff61c069",
   "metadata": {
    "tags": []
   },
   "outputs": [],
   "source": [
    "pd.crosstab(df2.prognosis,df2.weight_loss)"
   ]
  },
  {
   "cell_type": "code",
   "execution_count": null,
   "id": "a7c3fbcf-9caf-4fac-bc81-061f7f3362e5",
   "metadata": {
    "tags": []
   },
   "outputs": [],
   "source": [
    "pd.crosstab(df2.prognosis,df2.loss_of_smell)"
   ]
  },
  {
   "cell_type": "code",
   "execution_count": null,
   "id": "e74e7d1b-1eb2-49a3-903d-42c3f4f0f93e",
   "metadata": {
    "tags": []
   },
   "outputs": [],
   "source": [
    "df2.rename(columns={'fluid_overload.1':'fluid_overload'}, inplace=True)\n",
    "df2.rename(columns={'prognosis':'disease'}, inplace=True)"
   ]
  },
  {
   "cell_type": "code",
   "execution_count": null,
   "id": "12c1bc24-2706-400f-bed4-3fba6fd3b382",
   "metadata": {
    "tags": []
   },
   "outputs": [],
   "source": [
    "df2.columns"
   ]
  },
  {
   "cell_type": "code",
   "execution_count": null,
   "id": "2aa2fe10-5b29-4864-84e1-6cff99f422cf",
   "metadata": {
    "tags": []
   },
   "outputs": [],
   "source": [
    "df2.head()"
   ]
  },
  {
   "cell_type": "code",
   "execution_count": null,
   "id": "cbba384e-3ccb-426c-bc23-32f04b44ba96",
   "metadata": {
    "tags": []
   },
   "outputs": [],
   "source": [
    "df2.to_csv('finaldataset.csv')"
   ]
  },
  {
   "cell_type": "code",
   "execution_count": null,
   "id": "8f2b863a-78bc-4013-9f31-a21e9373d752",
   "metadata": {},
   "outputs": [],
   "source": [
    "df3 = pd.read_csv('finaldataset.csv')"
   ]
  },
  {
   "cell_type": "code",
   "execution_count": null,
   "id": "454691e4-f2e5-45b3-9b91-af925c8787f6",
   "metadata": {
    "tags": []
   },
   "outputs": [],
   "source": [
    "df3.head()"
   ]
  },
  {
   "cell_type": "code",
   "execution_count": null,
   "id": "d5bf2bb3-72a0-48df-859b-e30b60ed8827",
   "metadata": {
    "tags": []
   },
   "outputs": [],
   "source": [
    "df3.drop(['Unnamed: 0'],axis=1, inplace=True)\n",
    "colms=df3.columns"
   ]
  },
  {
   "cell_type": "code",
   "execution_count": null,
   "id": "f5723791-a62f-4c8f-af07-de3c0dede843",
   "metadata": {
    "tags": []
   },
   "outputs": [],
   "source": [
    "colms"
   ]
  },
  {
   "cell_type": "code",
   "execution_count": null,
   "id": "19500c6b-bc59-4f10-9506-bf48cb859903",
   "metadata": {
    "tags": []
   },
   "outputs": [],
   "source": [
    "\n",
    "colms=colms.delete(-1)"
   ]
  },
  {
   "cell_type": "code",
   "execution_count": null,
   "id": "3a33c3f9-1b88-4675-85b9-7cea6fc021a6",
   "metadata": {
    "tags": []
   },
   "outputs": [],
   "source": [
    "ones=[]\n",
    "\n",
    "for k,c in enumerate(colms):\n",
    "    ones.append(sum(df3[c]==1))\n",
    "    print(c,\":\",ones[k])\n",
    "   \n",
    "    \n"
   ]
  },
  {
   "cell_type": "code",
   "execution_count": null,
   "id": "57774a32-9aa9-4e85-a56c-ecb5c02c6692",
   "metadata": {
    "tags": []
   },
   "outputs": [],
   "source": [
    "min(ones)"
   ]
  },
  {
   "cell_type": "code",
   "execution_count": null,
   "id": "616c4a4b-46b6-40bb-9e33-68600796c2ff",
   "metadata": {
    "tags": []
   },
   "outputs": [],
   "source": [
    "max(ones)"
   ]
  },
  {
   "cell_type": "code",
   "execution_count": null,
   "id": "74def819-7b3d-4383-906d-6086645c01de",
   "metadata": {
    "tags": []
   },
   "outputs": [],
   "source": [
    "len(ones)"
   ]
  },
  {
   "cell_type": "code",
   "execution_count": null,
   "id": "a4deb225-35cf-46a5-82e1-063947e5cc22",
   "metadata": {
    "tags": []
   },
   "outputs": [],
   "source": [
    "d={}\n",
    "d2={}\n",
    "for c,v in zip(colms,ones):\n",
    "    d[c]=v\n",
    "print(d['depression'])    \n",
    "\n",
    "for k, v in d.items():\n",
    "    if d[k]>300:\n",
    "        d2[k]=v\n",
    "    "
   ]
  },
  {
   "cell_type": "code",
   "execution_count": null,
   "id": "bab2d575-0144-4a15-a5f7-c92e7481768c",
   "metadata": {
    "tags": []
   },
   "outputs": [],
   "source": [
    "print(d2.keys())"
   ]
  },
  {
   "cell_type": "code",
   "execution_count": null,
   "id": "515fceba-cd78-4b10-a9c4-2d9b338cfba6",
   "metadata": {
    "tags": []
   },
   "outputs": [],
   "source": [
    "print(len(d2.keys()))\n"
   ]
  },
  {
   "cell_type": "code",
   "execution_count": null,
   "id": "a3c34677-0ca4-47e7-97e1-a2c007c9fd88",
   "metadata": {
    "tags": []
   },
   "outputs": [],
   "source": [
    "df4 = df3[['itching', 'joint_pain', 'vomiting', 'fatigue', 'high_fever', 'headache', 'yellowish_skin', \n",
    "           'dark_urine', 'nausea', 'loss_of_appetite', 'abdominal_pain', 'diarrhoea', 'yellowing_of_eyes', \n",
    "           'chest_pain','disease']].copy()"
   ]
  },
  {
   "cell_type": "code",
   "execution_count": null,
   "id": "61c20511-a391-4146-b13f-d6eb705f92f5",
   "metadata": {
    "tags": []
   },
   "outputs": [],
   "source": [
    "df4.to_csv('finaldataset2.csv')"
   ]
  },
  {
   "cell_type": "code",
   "execution_count": null,
   "id": "6f990de3-a2fe-4dc2-b127-3bc26ac32d42",
   "metadata": {},
   "outputs": [],
   "source": []
  }
 ],
 "metadata": {
  "kernelspec": {
   "display_name": "Python 3 (ipykernel)",
   "language": "python",
   "name": "python3"
  },
  "language_info": {
   "codemirror_mode": {
    "name": "ipython",
    "version": 3
   },
   "file_extension": ".py",
   "mimetype": "text/x-python",
   "name": "python",
   "nbconvert_exporter": "python",
   "pygments_lexer": "ipython3",
   "version": "3.11.3"
  }
 },
 "nbformat": 4,
 "nbformat_minor": 5
}
